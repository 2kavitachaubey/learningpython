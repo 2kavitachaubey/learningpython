{
 "cells": [
  {
   "cell_type": "markdown",
   "id": "e64b641a",
   "metadata": {},
   "source": [
    "# Variable\n",
    "\n",
    "- various datatypes in python\n",
    "- variable\n",
    "- variable assignment\n",
    "- print formatting"
   ]
  },
  {
   "cell_type": "markdown",
   "id": "3faa39d1",
   "metadata": {},
   "source": [
    "# Various DataTypes in python"
   ]
  },
  {
   "cell_type": "markdown",
   "id": "72adba9a",
   "metadata": {},
   "source": [
    "## Numbers"
   ]
  },
  {
   "cell_type": "code",
   "execution_count": 3,
   "id": "ca33d3d5",
   "metadata": {},
   "outputs": [
    {
     "data": {
      "text/plain": [
       "4"
      ]
     },
     "execution_count": 3,
     "metadata": {},
     "output_type": "execute_result"
    }
   ],
   "source": [
    "2+2"
   ]
  },
  {
   "cell_type": "code",
   "execution_count": 4,
   "id": "acf028ec",
   "metadata": {},
   "outputs": [
    {
     "data": {
      "text/plain": [
       "0"
      ]
     },
     "execution_count": 4,
     "metadata": {},
     "output_type": "execute_result"
    }
   ],
   "source": [
    "2-2\n"
   ]
  },
  {
   "cell_type": "code",
   "execution_count": 5,
   "id": "e0ce92ed",
   "metadata": {},
   "outputs": [
    {
     "data": {
      "text/plain": [
       "1.0"
      ]
     },
     "execution_count": 5,
     "metadata": {},
     "output_type": "execute_result"
    }
   ],
   "source": [
    "2/2"
   ]
  },
  {
   "cell_type": "code",
   "execution_count": 6,
   "id": "b3674a6a",
   "metadata": {},
   "outputs": [
    {
     "data": {
      "text/plain": [
       "0"
      ]
     },
     "execution_count": 6,
     "metadata": {},
     "output_type": "execute_result"
    }
   ],
   "source": [
    "2%2"
   ]
  },
  {
   "cell_type": "code",
   "execution_count": 7,
   "id": "b230b2f8",
   "metadata": {},
   "outputs": [
    {
     "data": {
      "text/plain": [
       "8"
      ]
     },
     "execution_count": 7,
     "metadata": {},
     "output_type": "execute_result"
    }
   ],
   "source": [
    "2**3"
   ]
  },
  {
   "cell_type": "code",
   "execution_count": 8,
   "id": "50c142b1",
   "metadata": {},
   "outputs": [
    {
     "data": {
      "text/plain": [
       "'kavitakavita'"
      ]
     },
     "execution_count": 8,
     "metadata": {},
     "output_type": "execute_result"
    }
   ],
   "source": [
    "2 * 'kavita'"
   ]
  },
  {
   "cell_type": "code",
   "execution_count": 15,
   "id": "7f8a68a3",
   "metadata": {},
   "outputs": [
    {
     "name": "stdout",
     "output_type": "stream",
     "text": [
      "3\n"
     ]
    }
   ],
   "source": [
    "a = 2\n",
    "a = a + 1\n",
    "print(a)"
   ]
  },
  {
   "cell_type": "code",
   "execution_count": 10,
   "id": "41e68dce",
   "metadata": {},
   "outputs": [
    {
     "data": {
      "text/plain": [
       "4.6"
      ]
     },
     "execution_count": 10,
     "metadata": {},
     "output_type": "execute_result"
    }
   ],
   "source": [
    "2 * 2.3"
   ]
  },
  {
   "cell_type": "code",
   "execution_count": 11,
   "id": "9bafaded",
   "metadata": {},
   "outputs": [
    {
     "data": {
      "text/plain": [
       "int"
      ]
     },
     "execution_count": 11,
     "metadata": {},
     "output_type": "execute_result"
    }
   ],
   "source": [
    "type(2)"
   ]
  },
  {
   "cell_type": "code",
   "execution_count": 16,
   "id": "b2d7c45a",
   "metadata": {},
   "outputs": [
    {
     "name": "stdout",
     "output_type": "stream",
     "text": [
      "3.0\n"
     ]
    }
   ],
   "source": [
    "num = 2 + 2 / 2\n",
    "print(num)"
   ]
  },
  {
   "cell_type": "code",
   "execution_count": 13,
   "id": "5de319bd",
   "metadata": {},
   "outputs": [
    {
     "data": {
      "text/plain": [
       "str"
      ]
     },
     "execution_count": 13,
     "metadata": {},
     "output_type": "execute_result"
    }
   ],
   "source": [
    "type('kc')"
   ]
  },
  {
   "cell_type": "code",
   "execution_count": 17,
   "id": "74ee8219",
   "metadata": {},
   "outputs": [
    {
     "data": {
      "text/plain": [
       "float"
      ]
     },
     "execution_count": 17,
     "metadata": {},
     "output_type": "execute_result"
    }
   ],
   "source": [
    "type(2.34)"
   ]
  },
  {
   "cell_type": "markdown",
   "id": "f2c1373e",
   "metadata": {},
   "source": [
    "## Strings"
   ]
  },
  {
   "cell_type": "code",
   "execution_count": 18,
   "id": "09e9add3",
   "metadata": {},
   "outputs": [
    {
     "name": "stdout",
     "output_type": "stream",
     "text": [
      "kavitachaubey\n"
     ]
    }
   ],
   "source": [
    "name = 'kavita'\n",
    "last_name = 'chaubey'\n",
    "print(name + last_name)"
   ]
  },
  {
   "cell_type": "code",
   "execution_count": 20,
   "id": "466c55d7",
   "metadata": {
    "scrolled": true
   },
   "outputs": [
    {
     "name": "stdout",
     "output_type": "stream",
     "text": [
      "hello i'm peter parker doing my college from harvard university and my roll number is 23\n"
     ]
    }
   ],
   "source": [
    "name = 'peter parker'\n",
    "roll_no = 23\n",
    "college = 'harvard university'\n",
    "print(\"hello i'm \" + name + \" doing my college from \" + college + \" and my roll number is \" + str(roll_no))"
   ]
  },
  {
   "cell_type": "code",
   "execution_count": 22,
   "id": "5d63de8e",
   "metadata": {},
   "outputs": [],
   "source": [
    "a = 5\n",
    "b = a"
   ]
  },
  {
   "cell_type": "code",
   "execution_count": 24,
   "id": "e94c38af",
   "metadata": {
    "scrolled": true
   },
   "outputs": [
    {
     "name": "stdout",
     "output_type": "stream",
     "text": [
      "10\n",
      "0\n",
      "1.0\n"
     ]
    }
   ],
   "source": [
    "print(a+b)\n",
    "print(a-b)\n",
    "print(a/b)\n",
    "# it print all the value in string "
   ]
  },
  {
   "cell_type": "markdown",
   "id": "4969f34d",
   "metadata": {},
   "source": [
    "## Variable assignment"
   ]
  },
  {
   "cell_type": "code",
   "execution_count": 26,
   "id": "e2b43008",
   "metadata": {},
   "outputs": [
    {
     "name": "stdout",
     "output_type": "stream",
     "text": [
      "True\n",
      "False\n",
      "True\n"
     ]
    }
   ],
   "source": [
    "#variable assignment\n",
    "\n",
    "print(1 >= 0)\n",
    "print(1==2)\n",
    "print(2<=5)"
   ]
  },
  {
   "cell_type": "markdown",
   "id": "8c766feb",
   "metadata": {},
   "source": [
    "## Print formatting"
   ]
  },
  {
   "cell_type": "code",
   "execution_count": 27,
   "id": "0f80cb70",
   "metadata": {},
   "outputs": [
    {
     "name": "stdout",
     "output_type": "stream",
     "text": [
      "My first name is kavita and last name in chaubey\n"
     ]
    }
   ],
   "source": [
    "first_name = 'kavita'\n",
    "last_name = 'chaubey'\n",
    "print(\"My first name is {} and last name in {}\".format(first_name,last_name))"
   ]
  },
  {
   "cell_type": "code",
   "execution_count": 30,
   "id": "b2ccb3a2",
   "metadata": {},
   "outputs": [
    {
     "name": "stdout",
     "output_type": "stream",
     "text": [
      "hello i'm peter parker, doing my college from harvard university and my roll number is 23\n"
     ]
    }
   ],
   "source": [
    "name = 'peter parker'\n",
    "roll_no = 23\n",
    "college = 'harvard university'\n",
    "print(\"hello i'm {}, doing my college from {} and my roll number is {}\".format(name,college,roll_no))"
   ]
  },
  {
   "cell_type": "code",
   "execution_count": 31,
   "id": "55676b44",
   "metadata": {},
   "outputs": [
    {
     "data": {
      "text/plain": [
       "12"
      ]
     },
     "execution_count": 31,
     "metadata": {},
     "output_type": "execute_result"
    }
   ],
   "source": [
    "#length\n",
    "len(name)"
   ]
  },
  {
   "cell_type": "code",
   "execution_count": 35,
   "id": "0f602f3e",
   "metadata": {},
   "outputs": [
    {
     "name": "stdout",
     "output_type": "stream",
     "text": [
      "5\n"
     ]
    }
   ],
   "source": [
    "#list length\n",
    "print(len([1,2,3,4,54]))"
   ]
  },
  {
   "cell_type": "code",
   "execution_count": null,
   "id": "e60d1a6b",
   "metadata": {},
   "outputs": [],
   "source": []
  },
  {
   "cell_type": "code",
   "execution_count": null,
   "id": "cfeb9537",
   "metadata": {},
   "outputs": [],
   "source": []
  }
 ],
 "metadata": {
  "kernelspec": {
   "display_name": "Python 3 (ipykernel)",
   "language": "python",
   "name": "python3"
  },
  "language_info": {
   "codemirror_mode": {
    "name": "ipython",
    "version": 3
   },
   "file_extension": ".py",
   "mimetype": "text/x-python",
   "name": "python",
   "nbconvert_exporter": "python",
   "pygments_lexer": "ipython3",
   "version": "3.9.13"
  }
 },
 "nbformat": 4,
 "nbformat_minor": 5
}
