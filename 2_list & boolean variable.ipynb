{
 "cells": [
  {
   "cell_type": "markdown",
   "id": "81b38c3f",
   "metadata": {},
   "source": [
    "# Python data structures and boolean\n",
    "- Boolean\n",
    "- Boolean and logical operators\n",
    "- Lists\n",
    "- Comparison operator\n",
    "- Dictionaries\n",
    "- Tuple\n",
    "- Sets"
   ]
  },
  {
   "cell_type": "markdown",
   "id": "327eed5f",
   "metadata": {},
   "source": [
    "## Boolean"
   ]
  },
  {
   "cell_type": "code",
   "execution_count": 1,
   "id": "95f9e813",
   "metadata": {},
   "outputs": [
    {
     "name": "stdout",
     "output_type": "stream",
     "text": [
      "True\n"
     ]
    }
   ],
   "source": [
    "print(True)"
   ]
  },
  {
   "cell_type": "code",
   "execution_count": 2,
   "id": "cbf4b518",
   "metadata": {},
   "outputs": [
    {
     "data": {
      "text/plain": [
       "bool"
      ]
     },
     "execution_count": 2,
     "metadata": {},
     "output_type": "execute_result"
    }
   ],
   "source": [
    "type(True)"
   ]
  },
  {
   "cell_type": "code",
   "execution_count": 3,
   "id": "12af9d06",
   "metadata": {},
   "outputs": [
    {
     "name": "stdout",
     "output_type": "stream",
     "text": [
      "False\n"
     ]
    }
   ],
   "source": [
    "a = True\n",
    "print(not a)"
   ]
  },
  {
   "cell_type": "markdown",
   "id": "df1a8e35",
   "metadata": {},
   "source": [
    "### Prime number"
   ]
  },
  {
   "cell_type": "code",
   "execution_count": 16,
   "id": "c1de974a",
   "metadata": {},
   "outputs": [
    {
     "name": "stdout",
     "output_type": "stream",
     "text": [
      "Enter your number: 4\n",
      "4 is not a prime number\n"
     ]
    }
   ],
   "source": [
    "num = int(input(\"Enter your number: \"))\n",
    "i = 2\n",
    "count = 0\n",
    "while i <= num/2:\n",
    "    if num % i == 0:\n",
    "        count = 1\n",
    "        break\n",
    "    i = i + 1\n",
    "if count==0:\n",
    "    print('{} is a prime number'.format(num))\n",
    "else:\n",
    "    print('{} is not a prime number'.format(num))"
   ]
  },
  {
   "cell_type": "code",
   "execution_count": 17,
   "id": "57c55975",
   "metadata": {},
   "outputs": [],
   "source": [
    "my_name='kavita chaubey'"
   ]
  },
  {
   "cell_type": "code",
   "execution_count": 26,
   "id": "d9ef4462",
   "metadata": {},
   "outputs": [
    {
     "name": "stdout",
     "output_type": "stream",
     "text": [
      "False\n",
      "False\n",
      "False\n",
      "False\n",
      "False\n",
      "True\n",
      "False\n",
      "True\n",
      "True\n"
     ]
    }
   ],
   "source": [
    "print(my_name.isalnum())\n",
    "print(my_name.isalpha())\n",
    "print(my_name.isdigit())\n",
    "print(my_name.istitle())\n",
    "print(my_name.isupper())\n",
    "print(my_name.islower())\n",
    "print(my_name.isspace())\n",
    "print(my_name.endswith('y'))     #important endswith\n",
    "print(my_name.startswith('k'))   #important startswith"
   ]
  },
  {
   "cell_type": "markdown",
   "id": "24ae3d60",
   "metadata": {},
   "source": [
    "## Boolean and logical operators\n"
   ]
  },
  {
   "cell_type": "code",
   "execution_count": 27,
   "id": "630248ec",
   "metadata": {},
   "outputs": [
    {
     "data": {
      "text/plain": [
       "True"
      ]
     },
     "execution_count": 27,
     "metadata": {},
     "output_type": "execute_result"
    }
   ],
   "source": [
    "True and True"
   ]
  },
  {
   "cell_type": "code",
   "execution_count": 28,
   "id": "0f0685a2",
   "metadata": {},
   "outputs": [
    {
     "data": {
      "text/plain": [
       "False"
      ]
     },
     "execution_count": 28,
     "metadata": {},
     "output_type": "execute_result"
    }
   ],
   "source": [
    "True and False"
   ]
  },
  {
   "cell_type": "code",
   "execution_count": 29,
   "id": "04b7d7fd",
   "metadata": {},
   "outputs": [
    {
     "data": {
      "text/plain": [
       "True"
      ]
     },
     "execution_count": 29,
     "metadata": {},
     "output_type": "execute_result"
    }
   ],
   "source": [
    "True or False"
   ]
  },
  {
   "cell_type": "code",
   "execution_count": 30,
   "id": "7d634995",
   "metadata": {},
   "outputs": [
    {
     "data": {
      "text/plain": [
       "True"
      ]
     },
     "execution_count": 30,
     "metadata": {},
     "output_type": "execute_result"
    }
   ],
   "source": [
    "not False"
   ]
  },
  {
   "cell_type": "code",
   "execution_count": 31,
   "id": "e7f980ae",
   "metadata": {},
   "outputs": [
    {
     "data": {
      "text/plain": [
       "False"
      ]
     },
     "execution_count": 31,
     "metadata": {},
     "output_type": "execute_result"
    }
   ],
   "source": [
    "not True"
   ]
  },
  {
   "cell_type": "code",
   "execution_count": 32,
   "id": "02f74622",
   "metadata": {},
   "outputs": [],
   "source": [
    "my_num = 'hello world'\n",
    "my_self = 'kavita'\n"
   ]
  },
  {
   "cell_type": "code",
   "execution_count": 33,
   "id": "4469317b",
   "metadata": {},
   "outputs": [
    {
     "data": {
      "text/plain": [
       "True"
      ]
     },
     "execution_count": 33,
     "metadata": {},
     "output_type": "execute_result"
    }
   ],
   "source": [
    "my_num.isalnum() or my_self.isalpha()"
   ]
  },
  {
   "cell_type": "markdown",
   "id": "52601552",
   "metadata": {},
   "source": [
    "# Lists\n",
    "### A list is a data structure in python that is mutable,or changable, ordered sequence of element "
   ]
  },
  {
   "cell_type": "code",
   "execution_count": 34,
   "id": "6f701f6a",
   "metadata": {},
   "outputs": [
    {
     "data": {
      "text/plain": [
       "list"
      ]
     },
     "execution_count": 34,
     "metadata": {},
     "output_type": "execute_result"
    }
   ],
   "source": [
    "type([])"
   ]
  },
  {
   "cell_type": "code",
   "execution_count": 36,
   "id": "ff40761c",
   "metadata": {},
   "outputs": [
    {
     "data": {
      "text/plain": [
       "list"
      ]
     },
     "execution_count": 36,
     "metadata": {},
     "output_type": "execute_result"
    }
   ],
   "source": [
    "lst = list()\n",
    "type(lst)"
   ]
  },
  {
   "cell_type": "code",
   "execution_count": 37,
   "id": "16a504c9",
   "metadata": {},
   "outputs": [
    {
     "name": "stdout",
     "output_type": "stream",
     "text": [
      "['potato', 'onion', 'cabbage', 'tomato']\n"
     ]
    }
   ],
   "source": [
    "lists = ['potato','onion','cabbage','tomato']\n",
    "print(lists)"
   ]
  },
  {
   "cell_type": "code",
   "execution_count": 38,
   "id": "109072a7",
   "metadata": {},
   "outputs": [
    {
     "data": {
      "text/plain": [
       "list"
      ]
     },
     "execution_count": 38,
     "metadata": {},
     "output_type": "execute_result"
    }
   ],
   "source": [
    "type(lists)"
   ]
  },
  {
   "cell_type": "markdown",
   "id": "851cdb07",
   "metadata": {},
   "source": [
    "### Append in list -- adding the element in the end of list"
   ]
  },
  {
   "cell_type": "code",
   "execution_count": 39,
   "id": "da6f05ef",
   "metadata": {},
   "outputs": [],
   "source": [
    "lists = ['kavita', '2100884090', 'ignou']\n",
    "lists.append('BCA')"
   ]
  },
  {
   "cell_type": "code",
   "execution_count": 40,
   "id": "970b0402",
   "metadata": {},
   "outputs": [
    {
     "name": "stdout",
     "output_type": "stream",
     "text": [
      "['kavita', '2100884090', 'ignou', 'BCA']\n"
     ]
    }
   ],
   "source": [
    "print(lists)"
   ]
  },
  {
   "cell_type": "code",
   "execution_count": 55,
   "id": "208ccad2",
   "metadata": {},
   "outputs": [],
   "source": [
    "# lists.append(['haldwani','uttrakhand'])\n",
    "# print(lists)\""
   ]
  },
  {
   "cell_type": "code",
   "execution_count": 51,
   "id": "36bb3836",
   "metadata": {},
   "outputs": [
    {
     "data": {
      "text/plain": [
       "4"
      ]
     },
     "execution_count": 51,
     "metadata": {},
     "output_type": "execute_result"
    }
   ],
   "source": [
    "lists.index('BCA')"
   ]
  },
  {
   "cell_type": "code",
   "execution_count": 46,
   "id": "2ed37e5e",
   "metadata": {
    "scrolled": true
   },
   "outputs": [
    {
     "data": {
      "text/plain": [
       "['chaubey', '2100884090']"
      ]
     },
     "execution_count": 46,
     "metadata": {},
     "output_type": "execute_result"
    }
   ],
   "source": [
    "lists[1:3]"
   ]
  },
  {
   "cell_type": "code",
   "execution_count": 47,
   "id": "7b6c4317",
   "metadata": {},
   "outputs": [
    {
     "data": {
      "text/plain": [
       "['2100884090', 'ignou', 'BCA']"
      ]
     },
     "execution_count": 47,
     "metadata": {},
     "output_type": "execute_result"
    }
   ],
   "source": [
    "lists[1:]"
   ]
  },
  {
   "cell_type": "markdown",
   "id": "9d72ea76",
   "metadata": {},
   "source": [
    "### Insert -- insert in specific order"
   ]
  },
  {
   "cell_type": "code",
   "execution_count": 44,
   "id": "3136a733",
   "metadata": {},
   "outputs": [],
   "source": [
    "lists.insert(1,'chaubey')"
   ]
  },
  {
   "cell_type": "code",
   "execution_count": 56,
   "id": "74545f03",
   "metadata": {},
   "outputs": [
    {
     "name": "stdout",
     "output_type": "stream",
     "text": [
      "['kavita', 'chaubey', '2100884090', 'ignou', 'BCA', ['haldwani', 'uttrakhand'], ['haldwani', 'uttrakhand'], ['haldwani', 'uttrakhand']]\n"
     ]
    }
   ],
   "source": [
    "print(lists)"
   ]
  },
  {
   "cell_type": "code",
   "execution_count": 59,
   "id": "7f9e2720",
   "metadata": {},
   "outputs": [],
   "source": [
    "lists.remove(['haldwani','uttrakhand'])"
   ]
  },
  {
   "cell_type": "code",
   "execution_count": 60,
   "id": "36a7d899",
   "metadata": {},
   "outputs": [
    {
     "name": "stdout",
     "output_type": "stream",
     "text": [
      "['kavita', 'chaubey', '2100884090', 'ignou', 'BCA', ['haldwani', 'uttrakhand']]\n"
     ]
    }
   ],
   "source": [
    "print(lists)"
   ]
  },
  {
   "cell_type": "markdown",
   "id": "ab351c24",
   "metadata": {},
   "source": [
    "### Extend Method"
   ]
  },
  {
   "cell_type": "code",
   "execution_count": 2,
   "id": "d5dccc39",
   "metadata": {},
   "outputs": [],
   "source": [
    "lst = [1,2,3,4,5]"
   ]
  },
  {
   "cell_type": "code",
   "execution_count": 6,
   "id": "07f48dac",
   "metadata": {},
   "outputs": [
    {
     "name": "stdout",
     "output_type": "stream",
     "text": [
      "[1, 5, 5, 2, 5, 5, 3, 4, 5]\n"
     ]
    }
   ],
   "source": [
    "lst.insert(2,5)\n",
    "print(lst)"
   ]
  },
  {
   "cell_type": "code",
   "execution_count": 62,
   "id": "d92f34f8",
   "metadata": {},
   "outputs": [],
   "source": [
    "int(lst.extend([6,7]))"
   ]
  },
  {
   "cell_type": "code",
   "execution_count": 80,
   "id": "fe31a80d",
   "metadata": {},
   "outputs": [
    {
     "data": {
      "text/plain": [
       "[1, 2, 3, 4, 5, '6', '7']"
      ]
     },
     "execution_count": 80,
     "metadata": {},
     "output_type": "execute_result"
    }
   ],
   "source": [
    "lst"
   ]
  },
  {
   "cell_type": "markdown",
   "id": "b90233bd",
   "metadata": {},
   "source": [
    "### Various operation that we can perform in list"
   ]
  },
  {
   "cell_type": "code",
   "execution_count": 77,
   "id": "0a60996a",
   "metadata": {},
   "outputs": [],
   "source": [
    "num=[1,3,4,5,6,7]"
   ]
  },
  {
   "cell_type": "code",
   "execution_count": 78,
   "id": "981b22d6",
   "metadata": {},
   "outputs": [
    {
     "data": {
      "text/plain": [
       "26"
      ]
     },
     "execution_count": 78,
     "metadata": {},
     "output_type": "execute_result"
    }
   ],
   "source": [
    "sum(num)"
   ]
  },
  {
   "cell_type": "code",
   "execution_count": 95,
   "id": "e47f5c20",
   "metadata": {},
   "outputs": [
    {
     "data": {
      "text/plain": [
       "[1, 4, 5, 6, 1, 4, 5, 6]"
      ]
     },
     "execution_count": 95,
     "metadata": {},
     "output_type": "execute_result"
    }
   ],
   "source": [
    "num*2     #print it 2 times"
   ]
  },
  {
   "cell_type": "markdown",
   "id": "9c7bdbe4",
   "metadata": {},
   "source": [
    "### pop() method -- remove the last element of list"
   ]
  },
  {
   "cell_type": "code",
   "execution_count": 81,
   "id": "24d8bd15",
   "metadata": {},
   "outputs": [
    {
     "data": {
      "text/plain": [
       "7"
      ]
     },
     "execution_count": 81,
     "metadata": {},
     "output_type": "execute_result"
    }
   ],
   "source": [
    "num.pop()"
   ]
  },
  {
   "cell_type": "code",
   "execution_count": 82,
   "id": "c9da47cb",
   "metadata": {},
   "outputs": [
    {
     "data": {
      "text/plain": [
       "3"
      ]
     },
     "execution_count": 82,
     "metadata": {},
     "output_type": "execute_result"
    }
   ],
   "source": [
    "num.pop(1)"
   ]
  },
  {
   "cell_type": "code",
   "execution_count": 83,
   "id": "a500c45e",
   "metadata": {},
   "outputs": [
    {
     "data": {
      "text/plain": [
       "[1, 4, 5, 6]"
      ]
     },
     "execution_count": 83,
     "metadata": {},
     "output_type": "execute_result"
    }
   ],
   "source": [
    "num"
   ]
  },
  {
   "cell_type": "markdown",
   "id": "c7b706d9",
   "metadata": {},
   "source": [
    "### Inbuilt Function"
   ]
  },
  {
   "cell_type": "code",
   "execution_count": 84,
   "id": "4ad29f86",
   "metadata": {},
   "outputs": [
    {
     "data": {
      "text/plain": [
       "3"
      ]
     },
     "execution_count": 84,
     "metadata": {},
     "output_type": "execute_result"
    }
   ],
   "source": [
    "number = [1,1,1,2,3,4]\n",
    "number.count(1)"
   ]
  },
  {
   "cell_type": "code",
   "execution_count": 85,
   "id": "6a7d2567",
   "metadata": {},
   "outputs": [
    {
     "data": {
      "text/plain": [
       "6"
      ]
     },
     "execution_count": 85,
     "metadata": {},
     "output_type": "execute_result"
    }
   ],
   "source": [
    "len(number)"
   ]
  },
  {
   "cell_type": "code",
   "execution_count": 92,
   "id": "a717c1a7",
   "metadata": {},
   "outputs": [
    {
     "data": {
      "text/plain": [
       "3"
      ]
     },
     "execution_count": 92,
     "metadata": {},
     "output_type": "execute_result"
    }
   ],
   "source": [
    "number.index(2,1,4)  #value to check,start from,end at"
   ]
  },
  {
   "cell_type": "code",
   "execution_count": 93,
   "id": "c64c02c4",
   "metadata": {},
   "outputs": [
    {
     "data": {
      "text/plain": [
       "1"
      ]
     },
     "execution_count": 93,
     "metadata": {},
     "output_type": "execute_result"
    }
   ],
   "source": [
    "min(number)"
   ]
  },
  {
   "cell_type": "code",
   "execution_count": 94,
   "id": "3aa011b9",
   "metadata": {},
   "outputs": [
    {
     "data": {
      "text/plain": [
       "4"
      ]
     },
     "execution_count": 94,
     "metadata": {},
     "output_type": "execute_result"
    }
   ],
   "source": [
    "max(number)"
   ]
  },
  {
   "cell_type": "markdown",
   "id": "245f73ca",
   "metadata": {},
   "source": [
    "# Sets --\n",
    "## unordered collection of data type that is iterable, mutable and have no duplicate elements."
   ]
  },
  {
   "cell_type": "code",
   "execution_count": 1,
   "id": "74a38029",
   "metadata": {},
   "outputs": [
    {
     "name": "stdout",
     "output_type": "stream",
     "text": [
      "set()\n",
      "<class 'set'>\n"
     ]
    }
   ],
   "source": [
    "set_var = set()\n",
    "print(set_var)\n",
    "print(type(set_var))"
   ]
  },
  {
   "cell_type": "code",
   "execution_count": 5,
   "id": "e1f82980",
   "metadata": {},
   "outputs": [
    {
     "name": "stdout",
     "output_type": "stream",
     "text": [
      "{'tony stark', 'antman', 'captain america', 'spiderman'}\n"
     ]
    }
   ],
   "source": [
    "ironman = \"tony stark\"\n",
    "set_name = {'spiderman','antman','captain america',ironman,'tony stark'}\n",
    "print(set_name)"
   ]
  },
  {
   "cell_type": "code",
   "execution_count": 6,
   "id": "805e8d0e",
   "metadata": {},
   "outputs": [],
   "source": [
    "#we can't do indexing in sets \n",
    "# example = set_name[0] , set_name.index('antman')"
   ]
  },
  {
   "cell_type": "markdown",
   "id": "6ace4cb8",
   "metadata": {},
   "source": [
    "### Inbuilt function in sets\n",
    "### add, remove, union, update, intersection, difference, intersection_update(), clear, etc."
   ]
  },
  {
   "cell_type": "code",
   "execution_count": 7,
   "id": "8018d81c",
   "metadata": {},
   "outputs": [],
   "source": [
    "set_ironman = {'spiderman','natasha','hulk','thor'}\n",
    "set_captain = {'natasha','hulk','thor','black panther'}"
   ]
  },
  {
   "cell_type": "code",
   "execution_count": 8,
   "id": "6ee8a901",
   "metadata": {},
   "outputs": [
    {
     "name": "stdout",
     "output_type": "stream",
     "text": [
      "{'natasha', 'thor', 'hulk', 'spiderman', 'doctor strange'}\n"
     ]
    }
   ],
   "source": [
    "set_ironman.add('doctor strange')\n",
    "print(set_ironman)"
   ]
  },
  {
   "cell_type": "code",
   "execution_count": 9,
   "id": "006a70e7",
   "metadata": {},
   "outputs": [
    {
     "name": "stdout",
     "output_type": "stream",
     "text": [
      "{'natasha', 'hulk', 'spiderman', 'doctor strange'}\n"
     ]
    }
   ],
   "source": [
    "set_ironman.remove('thor')\n",
    "print(set_ironman)"
   ]
  },
  {
   "cell_type": "code",
   "execution_count": 10,
   "id": "68a7d558",
   "metadata": {},
   "outputs": [
    {
     "name": "stdout",
     "output_type": "stream",
     "text": [
      "{'natasha', 'thor', 'hulk', 'black panther', 'spiderman', 'doctor strange'}\n"
     ]
    }
   ],
   "source": [
    "set3 = set_ironman.union(set_captain)\n",
    "print(set3)"
   ]
  },
  {
   "cell_type": "code",
   "execution_count": 25,
   "id": "bba20737",
   "metadata": {},
   "outputs": [
    {
     "name": "stdout",
     "output_type": "stream",
     "text": [
      "{'natasha', 'hulk'}\n"
     ]
    }
   ],
   "source": [
    "print(set_ironman.intersection(set_captain))"
   ]
  },
  {
   "cell_type": "code",
   "execution_count": 33,
   "id": "96d98520",
   "metadata": {},
   "outputs": [
    {
     "name": "stdout",
     "output_type": "stream",
     "text": [
      "set()\n"
     ]
    }
   ],
   "source": [
    "print(set_ironman.difference(set_captain))"
   ]
  },
  {
   "cell_type": "code",
   "execution_count": 34,
   "id": "c198aba4",
   "metadata": {},
   "outputs": [],
   "source": [
    "set_ironman.intersection_update(set_captain)"
   ]
  },
  {
   "cell_type": "code",
   "execution_count": 32,
   "id": "74172ba2",
   "metadata": {},
   "outputs": [
    {
     "data": {
      "text/plain": [
       "{'hulk', 'natasha'}"
      ]
     },
     "execution_count": 32,
     "metadata": {},
     "output_type": "execute_result"
    }
   ],
   "source": [
    "set_ironman"
   ]
  },
  {
   "cell_type": "code",
   "execution_count": null,
   "id": "b344e541",
   "metadata": {},
   "outputs": [],
   "source": [
    "set_ironman.difference_update(set_captain)"
   ]
  },
  {
   "cell_type": "code",
   "execution_count": 30,
   "id": "52b8b33f",
   "metadata": {},
   "outputs": [
    {
     "data": {
      "text/plain": [
       "{'hulk', 'natasha'}"
      ]
     },
     "execution_count": 30,
     "metadata": {},
     "output_type": "execute_result"
    }
   ],
   "source": [
    "set_ironman"
   ]
  },
  {
   "cell_type": "code",
   "execution_count": 38,
   "id": "731e9b83",
   "metadata": {},
   "outputs": [
    {
     "data": {
      "text/plain": [
       "set()"
      ]
     },
     "execution_count": 38,
     "metadata": {},
     "output_type": "execute_result"
    }
   ],
   "source": [
    "set_captain.clear()\n",
    "set_captain"
   ]
  },
  {
   "cell_type": "code",
   "execution_count": 39,
   "id": "b83b27fb",
   "metadata": {},
   "outputs": [
    {
     "data": {
      "text/plain": [
       "set()"
      ]
     },
     "execution_count": 39,
     "metadata": {},
     "output_type": "execute_result"
    }
   ],
   "source": [
    "set_captain"
   ]
  },
  {
   "cell_type": "markdown",
   "id": "8d96f34f",
   "metadata": {},
   "source": [
    "# Dictionaries \n",
    "## collection of unordered data type which are changeable and indexed."
   ]
  },
  {
   "cell_type": "code",
   "execution_count": 40,
   "id": "77051714",
   "metadata": {},
   "outputs": [
    {
     "data": {
      "text/plain": [
       "dict"
      ]
     },
     "execution_count": 40,
     "metadata": {},
     "output_type": "execute_result"
    }
   ],
   "source": [
    "dic = {}\n",
    "type(dic)"
   ]
  },
  {
   "cell_type": "code",
   "execution_count": 42,
   "id": "1101f94a",
   "metadata": {},
   "outputs": [
    {
     "data": {
      "text/plain": [
       "dict"
      ]
     },
     "execution_count": 42,
     "metadata": {},
     "output_type": "execute_result"
    }
   ],
   "source": [
    "type(dict())"
   ]
  },
  {
   "cell_type": "code",
   "execution_count": 46,
   "id": "c01516e9",
   "metadata": {},
   "outputs": [
    {
     "data": {
      "text/plain": [
       "{'car1': 'audi', 'car2': 'bmw', 'car3': 'marcedes'}"
      ]
     },
     "execution_count": 46,
     "metadata": {},
     "output_type": "execute_result"
    }
   ],
   "source": [
    "dic_car ={'car1':'audi','car2':'bmw','car3':'marcedes'}\n",
    "dic_car"
   ]
  },
  {
   "cell_type": "code",
   "execution_count": 55,
   "id": "16c5ef65",
   "metadata": {},
   "outputs": [
    {
     "data": {
      "text/plain": [
       "'audi'"
      ]
     },
     "execution_count": 55,
     "metadata": {},
     "output_type": "execute_result"
    }
   ],
   "source": [
    "dic_car['car1']"
   ]
  },
  {
   "cell_type": "code",
   "execution_count": 47,
   "id": "405e724c",
   "metadata": {},
   "outputs": [
    {
     "name": "stdout",
     "output_type": "stream",
     "text": [
      "car1\n",
      "car2\n",
      "car3\n"
     ]
    }
   ],
   "source": [
    "for car in dic_car:\n",
    "    print(car)"
   ]
  },
  {
   "cell_type": "code",
   "execution_count": 50,
   "id": "8aed1b8f",
   "metadata": {},
   "outputs": [
    {
     "name": "stdout",
     "output_type": "stream",
     "text": [
      "audi\n",
      "bmw\n",
      "marcedes\n"
     ]
    }
   ],
   "source": [
    "for cars in dic_car.values():\n",
    "    print(cars)"
   ]
  },
  {
   "cell_type": "code",
   "execution_count": 52,
   "id": "bbf8ebe7",
   "metadata": {},
   "outputs": [
    {
     "name": "stdout",
     "output_type": "stream",
     "text": [
      "('car1', 'audi')\n",
      "('car2', 'bmw')\n",
      "('car3', 'marcedes')\n"
     ]
    }
   ],
   "source": [
    "for all_cars in dic_car.items():\n",
    "    print(all_cars)"
   ]
  },
  {
   "cell_type": "code",
   "execution_count": 56,
   "id": "952d41fa",
   "metadata": {},
   "outputs": [
    {
     "data": {
      "text/plain": [
       "{'car1': 'audi', 'car2': 'bmw', 'car3': 'marcedes', 'car4': 'supra'}"
      ]
     },
     "execution_count": 56,
     "metadata": {},
     "output_type": "execute_result"
    }
   ],
   "source": [
    "dic_car['car4'] = 'supra'\n",
    "dic_car"
   ]
  },
  {
   "cell_type": "code",
   "execution_count": 57,
   "id": "b58ec526",
   "metadata": {},
   "outputs": [
    {
     "data": {
      "text/plain": [
       "{'car1': 'audi', 'car2': 'defender', 'car3': 'marcedes', 'car4': 'supra'}"
      ]
     },
     "execution_count": 57,
     "metadata": {},
     "output_type": "execute_result"
    }
   ],
   "source": [
    "dic_car['car2']= 'defender'\n",
    "dic_car"
   ]
  },
  {
   "cell_type": "markdown",
   "id": "f8913d2f",
   "metadata": {},
   "source": [
    "## Nested dictionaries"
   ]
  },
  {
   "cell_type": "code",
   "execution_count": 60,
   "id": "232c0b7a",
   "metadata": {},
   "outputs": [
    {
     "name": "stdout",
     "output_type": "stream",
     "text": [
      "{'car1': {'Marcedes': 1980}, 'car2': {'Audi': 1970}, 'car3': {'Ambassador': 1960}}\n"
     ]
    }
   ],
   "source": [
    "car1_model = {'Marcedes': 1980}\n",
    "car2_model = {'Audi': 1970}\n",
    "car3_model = {'Ambassador' : 1960}\n",
    "\n",
    "car_type = {'car1': car1_model,'car2': car2_model,'car3': car3_model,}\n",
    "print(car_type)"
   ]
  },
  {
   "cell_type": "code",
   "execution_count": 61,
   "id": "f5615bd4",
   "metadata": {},
   "outputs": [
    {
     "data": {
      "text/plain": [
       "{'Marcedes': 1980}"
      ]
     },
     "execution_count": 61,
     "metadata": {},
     "output_type": "execute_result"
    }
   ],
   "source": [
    "#Accessing dictionaries\n",
    "car_type['car1']"
   ]
  },
  {
   "cell_type": "code",
   "execution_count": 68,
   "id": "a4160879",
   "metadata": {},
   "outputs": [
    {
     "data": {
      "text/plain": [
       "1980"
      ]
     },
     "execution_count": 68,
     "metadata": {},
     "output_type": "execute_result"
    }
   ],
   "source": [
    "car_type['car1']['Marcedes']"
   ]
  },
  {
   "cell_type": "code",
   "execution_count": 63,
   "id": "e133646e",
   "metadata": {},
   "outputs": [
    {
     "name": "stdout",
     "output_type": "stream",
     "text": [
      "car1\n",
      "car2\n",
      "car3\n"
     ]
    }
   ],
   "source": [
    "for car in car_type:\n",
    "    print(car)"
   ]
  },
  {
   "cell_type": "code",
   "execution_count": 65,
   "id": "0db97785",
   "metadata": {},
   "outputs": [
    {
     "name": "stdout",
     "output_type": "stream",
     "text": [
      "{'Marcedes': 1980}\n",
      "{'Audi': 1970}\n",
      "{'Ambassador': 1960}\n"
     ]
    }
   ],
   "source": [
    "for car_model in car_type.values():\n",
    "    print(car_model)"
   ]
  },
  {
   "cell_type": "code",
   "execution_count": 67,
   "id": "d386588b",
   "metadata": {},
   "outputs": [
    {
     "name": "stdout",
     "output_type": "stream",
     "text": [
      "('car1', {'Marcedes': 1980})\n",
      "('car2', {'Audi': 1970})\n",
      "('car3', {'Ambassador': 1960})\n"
     ]
    }
   ],
   "source": [
    "for cars_model in car_type.items():\n",
    "    print(cars_model)"
   ]
  },
  {
   "cell_type": "code",
   "execution_count": 7,
   "id": "8db51ce3",
   "metadata": {},
   "outputs": [],
   "source": [
    "family1 ={'narayan': 1967}\n",
    "family2 ={'gopal': 1972}\n",
    "family3 ={'rajan': 1985}"
   ]
  },
  {
   "cell_type": "code",
   "execution_count": 9,
   "id": "d6bd6080",
   "metadata": {},
   "outputs": [
    {
     "data": {
      "text/plain": [
       "{'doctorFamily': {'narayan': 1967},\n",
       " 'farmarFamily': {'gopal': 1972},\n",
       " 'armyFamily': {'rajan': 1985}}"
      ]
     },
     "execution_count": 9,
     "metadata": {},
     "output_type": "execute_result"
    }
   ],
   "source": [
    "families = {'doctorFamily':family1, 'farmarFamily':family2, 'armyFamily':family3}\n",
    "families"
   ]
  },
  {
   "cell_type": "markdown",
   "id": "0dc86312",
   "metadata": {},
   "source": [
    "# Tuple ()\n",
    "## work as constant we can change the tuple but we can't change the element of tuple"
   ]
  },
  {
   "cell_type": "code",
   "execution_count": 69,
   "id": "6a0678f5",
   "metadata": {},
   "outputs": [
    {
     "data": {
      "text/plain": [
       "tuple"
      ]
     },
     "execution_count": 69,
     "metadata": {},
     "output_type": "execute_result"
    }
   ],
   "source": [
    "tup = ()\n",
    "type(tup)"
   ]
  },
  {
   "cell_type": "code",
   "execution_count": 70,
   "id": "7d377ecd",
   "metadata": {},
   "outputs": [
    {
     "data": {
      "text/plain": [
       "tuple"
      ]
     },
     "execution_count": 70,
     "metadata": {},
     "output_type": "execute_result"
    }
   ],
   "source": [
    "type(tuple())"
   ]
  },
  {
   "cell_type": "code",
   "execution_count": 72,
   "id": "82ac172e",
   "metadata": {},
   "outputs": [
    {
     "data": {
      "text/plain": [
       "('tom', 'chris', 'tony')"
      ]
     },
     "execution_count": 72,
     "metadata": {},
     "output_type": "execute_result"
    }
   ],
   "source": [
    "my_tuple= ('tom','chris','tony')\n",
    "my_tuple"
   ]
  },
  {
   "cell_type": "code",
   "execution_count": 78,
   "id": "364b28ad",
   "metadata": {},
   "outputs": [
    {
     "data": {
      "text/plain": [
       "('elizabeth', 'natasha', 'natasha')"
      ]
     },
     "execution_count": 78,
     "metadata": {},
     "output_type": "execute_result"
    }
   ],
   "source": [
    "my_tuple = ('elizabeth','natasha','natasha')\n",
    "my_tuple"
   ]
  },
  {
   "cell_type": "code",
   "execution_count": 74,
   "id": "f45c6231",
   "metadata": {},
   "outputs": [
    {
     "data": {
      "text/plain": [
       "1"
      ]
     },
     "execution_count": 74,
     "metadata": {},
     "output_type": "execute_result"
    }
   ],
   "source": [
    "#accessing\n",
    "my_tuple.index('natasha')\n",
    "my_tuple[0]"
   ]
  },
  {
   "cell_type": "code",
   "execution_count": 76,
   "id": "fbcae4e0",
   "metadata": {},
   "outputs": [],
   "source": [
    "# we can't do that\n",
    "# my_tuple[0] = 'zendaya'"
   ]
  },
  {
   "cell_type": "code",
   "execution_count": 79,
   "id": "cdf15116",
   "metadata": {},
   "outputs": [
    {
     "data": {
      "text/plain": [
       "2"
      ]
     },
     "execution_count": 79,
     "metadata": {},
     "output_type": "execute_result"
    }
   ],
   "source": [
    "my_tuple.count('natasha')"
   ]
  },
  {
   "cell_type": "code",
   "execution_count": 81,
   "id": "0b622163",
   "metadata": {},
   "outputs": [
    {
     "name": "stdout",
     "output_type": "stream",
     "text": [
      "elizabeth\n",
      "natasha\n",
      "natasha\n"
     ]
    }
   ],
   "source": [
    "for celeb in my_tuple:\n",
    "    print(celeb)"
   ]
  },
  {
   "cell_type": "code",
   "execution_count": null,
   "id": "a4d7d068",
   "metadata": {},
   "outputs": [],
   "source": []
  }
 ],
 "metadata": {
  "kernelspec": {
   "display_name": "Python 3 (ipykernel)",
   "language": "python",
   "name": "python3"
  },
  "language_info": {
   "codemirror_mode": {
    "name": "ipython",
    "version": 3
   },
   "file_extension": ".py",
   "mimetype": "text/x-python",
   "name": "python",
   "nbconvert_exporter": "python",
   "pygments_lexer": "ipython3",
   "version": "3.9.13"
  }
 },
 "nbformat": 4,
 "nbformat_minor": 5
}
